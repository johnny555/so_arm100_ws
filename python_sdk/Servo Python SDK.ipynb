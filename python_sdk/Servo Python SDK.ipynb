{
 "cells": [
  {
   "cell_type": "code",
   "execution_count": 19,
   "id": "694e09ee",
   "metadata": {},
   "outputs": [],
   "source": [
    "from STservo_sdk import *                   # Uses STServo SDK library"
   ]
  },
  {
   "cell_type": "code",
   "execution_count": 20,
   "id": "1e7c1b19",
   "metadata": {},
   "outputs": [],
   "source": [
    "\n",
    "# Default setting\n",
    "STS_ID                  = 3                 # STServo ID : 1\n",
    "BAUDRATE                = 1000000           # STServo default baudrate : 1000000\n",
    "DEVICENAME = \"/dev/ttyACM1\""
   ]
  },
  {
   "cell_type": "code",
   "execution_count": 21,
   "id": "0c2d0d22",
   "metadata": {},
   "outputs": [],
   "source": [
    "portHandler = PortHandler(DEVICENAME)\n",
    "\n",
    "# Initialize PacketHandler instance\n",
    "# Get methods and members of Protocol\n",
    "packetHandler = sts(portHandler)"
   ]
  },
  {
   "cell_type": "code",
   "execution_count": 49,
   "id": "74ab9164",
   "metadata": {},
   "outputs": [
    {
     "data": {
      "text/plain": [
       "True"
      ]
     },
     "execution_count": 49,
     "metadata": {},
     "output_type": "execute_result"
    }
   ],
   "source": [
    "portHandler.openPort()"
   ]
  },
  {
   "cell_type": "code",
   "execution_count": 50,
   "id": "bf9db853",
   "metadata": {},
   "outputs": [
    {
     "data": {
      "text/plain": [
       "True"
      ]
     },
     "execution_count": 50,
     "metadata": {},
     "output_type": "execute_result"
    }
   ],
   "source": [
    "portHandler.setBaudRate(BAUDRATE)"
   ]
  },
  {
   "cell_type": "code",
   "execution_count": 51,
   "id": "07a510c1",
   "metadata": {},
   "outputs": [],
   "source": [
    "sts_model_number, sts_comm_result, sts_error = packetHandler.ping(3)"
   ]
  },
  {
   "cell_type": "code",
   "execution_count": 52,
   "id": "1bd36538",
   "metadata": {},
   "outputs": [
    {
     "data": {
      "text/plain": [
       "777"
      ]
     },
     "execution_count": 52,
     "metadata": {},
     "output_type": "execute_result"
    }
   ],
   "source": [
    "sts_model_number\n"
   ]
  },
  {
   "cell_type": "code",
   "execution_count": 29,
   "id": "d30226ee",
   "metadata": {},
   "outputs": [
    {
     "data": {
      "text/plain": [
       "0"
      ]
     },
     "execution_count": 29,
     "metadata": {},
     "output_type": "execute_result"
    }
   ],
   "source": [
    "sts_comm_result\n"
   ]
  },
  {
   "cell_type": "code",
   "execution_count": null,
   "id": "946977bc",
   "metadata": {},
   "outputs": [],
   "source": [
    "COMM_SUCCESS\n"
   ]
  },
  {
   "cell_type": "code",
   "execution_count": 45,
   "id": "9065507a",
   "metadata": {},
   "outputs": [
    {
     "name": "stdout",
     "output_type": "stream",
     "text": [
      "id:3, Pos:1939\n",
      "id:6, Pos:1659\n",
      "id:9, Pos:2670\n",
      "id:12, Pos:2102\n",
      "id:15, Pos:2047\n",
      "id:18, Pos:2047\n"
     ]
    }
   ],
   "source": [
    "# WARNING! This code will set all the motors current position to their centre position !!\n",
    "\n",
    "for ids in [3,6,9,12,15,18]:\n",
    "    sts_present_position, sts_present_speed, sts_comm_result, sts_error = packetHandler.ReadPosSpeed(ids)\n",
    "    print(f\"id:{ids}, Pos:{sts_present_position}\")\n",
    "    packetHandler.write1ByteTxRx(ids, 40, 128)"
   ]
  },
  {
   "cell_type": "code",
   "execution_count": 46,
   "id": "5c14e9f9",
   "metadata": {},
   "outputs": [
    {
     "name": "stdout",
     "output_type": "stream",
     "text": [
      "id:3, Pos:2048\n",
      "id:6, Pos:2048\n",
      "id:9, Pos:2048\n",
      "id:12, Pos:2047\n",
      "id:15, Pos:2048\n",
      "id:18, Pos:2047\n"
     ]
    }
   ],
   "source": [
    "for ids in range(0,99):\n",
    "    sts_present_position, sts_present_speed, sts_comm_result, sts_error = packetHandler.ReadPosSpeed(ids)\n",
    "    if (sts_present_position!= 0):\n",
    "        print(f\"id:{ids}, Pos:{sts_present_position}\")\n",
    "        \n",
    "        \n",
    "    "
   ]
  },
  {
   "cell_type": "code",
   "execution_count": null,
   "id": "ba76c16f",
   "metadata": {},
   "outputs": [],
   "source": []
  },
  {
   "cell_type": "code",
   "execution_count": 62,
   "id": "d697a283",
   "metadata": {},
   "outputs": [],
   "source": [
    "portHandler.closePort()"
   ]
  },
  {
   "cell_type": "code",
   "execution_count": 60,
   "id": "1cc4fa80",
   "metadata": {},
   "outputs": [],
   "source": [
    "\n",
    "sts_comm_result, sts_error = packetHandler.WritePosEx(15, 2047, 100, 100)\n"
   ]
  },
  {
   "cell_type": "code",
   "execution_count": null,
   "id": "af70af9a",
   "metadata": {},
   "outputs": [],
   "source": []
  }
 ],
 "metadata": {
  "kernelspec": {
   "display_name": "Python 3 (ipykernel)",
   "language": "python",
   "name": "python3"
  },
  "language_info": {
   "codemirror_mode": {
    "name": "ipython",
    "version": 3
   },
   "file_extension": ".py",
   "mimetype": "text/x-python",
   "name": "python",
   "nbconvert_exporter": "python",
   "pygments_lexer": "ipython3",
   "version": "3.10.12"
  }
 },
 "nbformat": 4,
 "nbformat_minor": 5
}
